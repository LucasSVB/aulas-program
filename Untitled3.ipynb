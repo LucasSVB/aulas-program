{
  "nbformat": 4,
  "nbformat_minor": 0,
  "metadata": {
    "colab": {
      "provenance": [],
      "authorship_tag": "ABX9TyOtyjsY/HnYEZpAxRdH2xE/",
      "include_colab_link": true
    },
    "kernelspec": {
      "name": "python3",
      "display_name": "Python 3"
    },
    "language_info": {
      "name": "python"
    }
  },
  "cells": [
    {
      "cell_type": "markdown",
      "metadata": {
        "id": "view-in-github",
        "colab_type": "text"
      },
      "source": [
        "<a href=\"https://colab.research.google.com/github/LucasSVB/aulas-program/blob/main/Untitled3.ipynb\" target=\"_parent\"><img src=\"https://colab.research.google.com/assets/colab-badge.svg\" alt=\"Open In Colab\"/></a>"
      ]
    },
    {
      "cell_type": "code",
      "execution_count": 4,
      "metadata": {
        "id": "WAMtLQvHJqzT"
      },
      "outputs": [],
      "source": [
        "#função calculaMedia\n",
        "\n",
        "def calculaMedia(x, y, z):\n",
        "  return (x+y+z)/3\n",
        "  \n"
      ]
    },
    {
      "cell_type": "code",
      "source": [
        "a = float(input('Nota 1: '))\n",
        "b = float(input('Nota 2: '))\n",
        "c = float(input('Nota 3: '))\n",
        "\n",
        "calculaMedia(a, b, c)"
      ],
      "metadata": {
        "colab": {
          "base_uri": "https://localhost:8080/"
        },
        "id": "lyDAxI8VK6MX",
        "outputId": "e3d06b5d-7d84-4252-c379-5a05932280df"
      },
      "execution_count": 3,
      "outputs": [
        {
          "name": "stdout",
          "output_type": "stream",
          "text": [
            "Nota 1: 7\n",
            "Nota 2: 5\n",
            "Nota 3: 9\n"
          ]
        },
        {
          "output_type": "execute_result",
          "data": {
            "text/plain": [
              "7.0"
            ]
          },
          "metadata": {},
          "execution_count": 3
        }
      ]
    },
    {
      "cell_type": "code",
      "source": [
        "#Argumentos arbitrários *args\n",
        "#Quando não se tem certeza quantos argumentos são passados pela função\n",
        "\n",
        "def mediatotal(*notas):\n",
        "  soma = 0\n",
        "  for nota in notas:\n",
        "    soma += nota\n",
        "  media = soma/len(notas)\n",
        "  return media"
      ],
      "metadata": {
        "id": "OGojd8PfMIUC"
      },
      "execution_count": 12,
      "outputs": []
    },
    {
      "cell_type": "code",
      "source": [
        "mediatotal(7,9,6,8,6,4,5,8,5,8,4,8,2)"
      ],
      "metadata": {
        "colab": {
          "base_uri": "https://localhost:8080/"
        },
        "id": "VykLjOIIN1M5",
        "outputId": "b028b6ea-5917-4c32-b6c4-1e4f40b18540"
      },
      "execution_count": 14,
      "outputs": [
        {
          "output_type": "execute_result",
          "data": {
            "text/plain": [
              "6.153846153846154"
            ]
          },
          "metadata": {},
          "execution_count": 14
        }
      ]
    },
    {
      "cell_type": "code",
      "source": [
        "def retornaMaior(*numeros):\n",
        "   maior = 0\n",
        "   for n in numeros:\n",
        "     if(n >= maior):\n",
        "       maior = n\n",
        "   return maior"
      ],
      "metadata": {
        "id": "wMxQfnP9cgUV"
      },
      "execution_count": 73,
      "outputs": []
    },
    {
      "cell_type": "code",
      "source": [
        "retornaMaior(2, 0 , 5, 5, 2, 34, 9)"
      ],
      "metadata": {
        "colab": {
          "base_uri": "https://localhost:8080/"
        },
        "id": "kLiEOe44dmY6",
        "outputId": "944d1313-b64e-4396-e29d-bbe2751afb8f"
      },
      "execution_count": 76,
      "outputs": [
        {
          "output_type": "execute_result",
          "data": {
            "text/plain": [
              "34"
            ]
          },
          "metadata": {},
          "execution_count": 76
        }
      ]
    },
    {
      "cell_type": "code",
      "source": [
        "def nacionalidade(contry = 'cuba'):\n",
        "  print('Eu nasci em :' + contry)\n",
        "  "
      ],
      "metadata": {
        "id": "EHicmh3Kew1w"
      },
      "execution_count": 79,
      "outputs": []
    },
    {
      "cell_type": "code",
      "source": [
        "nacionalidade('Brasil')\n",
        "nacionalidade('França')\n",
        "nacionalidade('Vietnã')\n",
        "nacionalidade()\n"
      ],
      "metadata": {
        "colab": {
          "base_uri": "https://localhost:8080/"
        },
        "id": "qKTot-HHe90x",
        "outputId": "6d8f6ad2-86a9-4055-bce0-4d86a052140a"
      },
      "execution_count": 78,
      "outputs": [
        {
          "output_type": "stream",
          "name": "stdout",
          "text": [
            "Eu nasci em :Brasil\n",
            "Eu nasci em :França\n",
            "Eu nasci em :Vietnã\n",
            "Eu nasci em :cuba\n"
          ]
        }
      ]
    },
    {
      "cell_type": "code",
      "source": [
        "def soma(a, b):\n",
        " return a + b\n",
        "\n",
        " "
      ],
      "metadata": {
        "id": "H-fXGCtvftoZ"
      },
      "execution_count": 82,
      "outputs": []
    },
    {
      "cell_type": "code",
      "source": [
        "soma(6, 8)"
      ],
      "metadata": {
        "colab": {
          "base_uri": "https://localhost:8080/"
        },
        "id": "SinONkSPiRr2",
        "outputId": "617c31cc-9fbd-494d-d811-6e83cd136a9b"
      },
      "execution_count": 83,
      "outputs": [
        {
          "output_type": "execute_result",
          "data": {
            "text/plain": [
              "14"
            ]
          },
          "metadata": {},
          "execution_count": 83
        }
      ]
    },
    {
      "cell_type": "code",
      "source": [
        "def valorAbsoluto(num):\n",
        "  if(num < 0):\n",
        "    num = num * -1\n",
        "  return num"
      ],
      "metadata": {
        "id": "uccMRQLqiW4m"
      },
      "execution_count": 84,
      "outputs": []
    },
    {
      "cell_type": "code",
      "source": [
        "valorAbsoluto(-15)"
      ],
      "metadata": {
        "colab": {
          "base_uri": "https://localhost:8080/"
        },
        "id": "58mF9oD9i9JP",
        "outputId": "1ab7c49a-2def-4642-dd3f-3bf2c1723a20"
      },
      "execution_count": 86,
      "outputs": [
        {
          "output_type": "execute_result",
          "data": {
            "text/plain": [
              "15"
            ]
          },
          "metadata": {},
          "execution_count": 86
        }
      ]
    },
    {
      "cell_type": "code",
      "source": [
        "def maiorque3(lista):\n",
        "  novalista = []\n",
        "  for item in lista:\n",
        "    if(len(item) > 3):\n",
        "     novalista.append(item)\n",
        "  return novalista\n"
      ],
      "metadata": {
        "id": "dJ3jMs2OjEYA"
      },
      "execution_count": 94,
      "outputs": []
    },
    {
      "cell_type": "code",
      "source": [
        "frutas = ['mangaba', 'uva', 'pinha']\n",
        "maiorque3(frutas)"
      ],
      "metadata": {
        "colab": {
          "base_uri": "https://localhost:8080/"
        },
        "id": "0lSm6bnAkomn",
        "outputId": "899b217c-a8e1-4f13-fe3d-6de1f4edd563"
      },
      "execution_count": 95,
      "outputs": [
        {
          "output_type": "execute_result",
          "data": {
            "text/plain": [
              "['mangaba', 'pinha']"
            ]
          },
          "metadata": {},
          "execution_count": 95
        }
      ]
    }
  ]
}