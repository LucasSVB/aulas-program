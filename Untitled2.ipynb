{
  "nbformat": 4,
  "nbformat_minor": 0,
  "metadata": {
    "colab": {
      "provenance": [],
      "authorship_tag": "ABX9TyOQCI00hn6nPB8XeS3N4tRl",
      "include_colab_link": true
    },
    "kernelspec": {
      "name": "python3",
      "display_name": "Python 3"
    },
    "language_info": {
      "name": "python"
    }
  },
  "cells": [
    {
      "cell_type": "markdown",
      "metadata": {
        "id": "view-in-github",
        "colab_type": "text"
      },
      "source": [
        "<a href=\"https://colab.research.google.com/github/LucasSVB/aulas-program/blob/main/Untitled2.ipynb\" target=\"_parent\"><img src=\"https://colab.research.google.com/assets/colab-badge.svg\" alt=\"Open In Colab\"/></a>"
      ]
    },
    {
      "cell_type": "code",
      "source": [
        "num = int(input('digite um número maior que 1:'))\n",
        "cont = 0\n",
        "listNumerica = []\n",
        "while(cont <= num):\n",
        "  listNumerica.append(cont)\n",
        "  cont +=1\n",
        "print(sum(listNumerica))"
      ],
      "metadata": {
        "colab": {
          "base_uri": "https://localhost:8080/"
        },
        "id": "fugk9Tk8NFWI",
        "outputId": "91347774-c87b-4fc6-b2c5-6a1056119c17"
      },
      "execution_count": 18,
      "outputs": [
        {
          "output_type": "stream",
          "name": "stdout",
          "text": [
            "digite um número maior que 1:5\n",
            "15\n"
          ]
        }
      ]
    },
    {
      "cell_type": "code",
      "source": [
        "num = int(input('digite um número maior que 1:'))\n",
        "cont = 0\n",
        "soma = 0\n",
        "while(cont <= num):\n",
        "  soma += cont\n",
        "  cont +=1\n",
        "print(soma)"
      ],
      "metadata": {
        "colab": {
          "base_uri": "https://localhost:8080/"
        },
        "id": "NY6f-b3aN2jP",
        "outputId": "e1db639a-348f-4a8c-a9c6-a14dc09b9314"
      },
      "execution_count": 19,
      "outputs": [
        {
          "output_type": "stream",
          "name": "stdout",
          "text": [
            "digite um número maior que 1:5\n",
            "15\n"
          ]
        }
      ]
    },
    {
      "cell_type": "code",
      "source": [
        "senha = 'Sim'\n",
        "userPass = input('Digite a senha:')\n",
        "cont = 0\n",
        "while(cont  < 3 ):\n",
        "  cont+=1\n",
        "  if(userPass == senha):\n",
        "    print('well come back')\n",
        "    break \n",
        "  else:\n",
        "    print('senha incorreta')\n",
        "    userPass = input('try again')\n",
        "if(cont == 3):\n",
        "    print('Bloqueado')\n",
        "else:\n",
        "  print('Well come back')    "
      ],
      "metadata": {
        "colab": {
          "base_uri": "https://localhost:8080/"
        },
        "id": "fZvnR-ONO56e",
        "outputId": "5fe4b3dd-082c-43dd-dc95-bef5f4230a93"
      },
      "execution_count": 24,
      "outputs": [
        {
          "output_type": "stream",
          "name": "stdout",
          "text": [
            "Digite a senha:Sim\n",
            "well come back\n",
            "Well come back\n"
          ]
        }
      ]
    },
    {
      "cell_type": "code",
      "source": [
        "#Testar a entrada do usuário\n",
        "#isdigit() Verificar se o que foi digitado é um numero ou não\n",
        "\n",
        "num = input('Digite um numero')\n",
        "num.isdigit()\n",
        "\n"
      ],
      "metadata": {
        "id": "b56ckLkkYiGm"
      },
      "execution_count": null,
      "outputs": []
    },
    {
      "cell_type": "code",
      "source": [
        "nome = input('Digite o nome!')\n",
        "if(nome.isidigit()):\n",
        "  print('entrada incorreta')\n",
        "else:\n",
        "  print(f'o nome{nome}foi inserido com sucesso')\n",
        "  print('o nome' + nome + 'foi inserido com sucesso')\n",
        "\n"
      ],
      "metadata": {
        "id": "jISlS-0LZJFV"
      },
      "execution_count": null,
      "outputs": []
    },
    {
      "cell_type": "code",
      "source": [
        "texto = input('sim')\n",
        "texto.isalpha()"
      ],
      "metadata": {
        "id": "61G5m0hDbfEL"
      },
      "execution_count": null,
      "outputs": []
    },
    {
      "cell_type": "code",
      "source": [
        "animais = []\n",
        "animal = input('Nome dos animais')\n",
        "\n",
        "while (animal.isdigit() == false):\n",
        "  animais.append(animal)\n",
        "  animal = input('Nome dos animais:')\n"
      ],
      "metadata": {
        "id": "QAcYBTdhbiQo"
      },
      "execution_count": null,
      "outputs": []
    }
  ]
}